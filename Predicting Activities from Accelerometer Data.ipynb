{
 "cells": [
  {
   "cell_type": "markdown",
   "metadata": {},
   "source": [
    "# Using accelerometer data to identify activities\n",
    "\n",
    "This notebook has been adapated from [Charles Franzen](http://charlesfranzen.com/posts/predicting-activities-from-accelerometer-data/). In his work, he used this [data set](http://archive.ics.uci.edu/ml/datasets/Activity+Recognition+from+Single+Chest-Mounted+Accelerometer#), which consists of discrete samples of accelerometer data during various types of activities. \n",
    "\n",
    "The following code gives an example how to use supervised learning for the classification of activities on time series data. It uses scikit-learn, scipy, numpy, and pandas as the core technologies of this analysis.\n",
    "\n",
    "\n",
    "If you're new to the iPython notebook, you can learn [more here](http://opentechschool.github.io/python-data-intro/core/notebook.html)\n",
    "<!-- TEASER_END -->\n",
    "\n",
    "\n",
    "## Overview\n",
    "\n",
    "The task is to identify the wearers of activity given a sample of accelerometer data. The general approach that I took was that of Casale and Radeva in their [paper](https://www.researchgate.net/publication/221258784_Human_Activity_Recognition_from_Accelerometer_Data_Using_at_Wearable_Device?ev=prf_pub). It has been adapted to the dataset we are collecting in the HUNT4 study."
   ]
  },
  {
   "cell_type": "code",
   "execution_count": 45,
   "metadata": {
    "collapsed": true
   },
   "outputs": [],
   "source": [
    "# import libraries for matrix manipulation and data visualization\n",
    "\n",
    "%matplotlib inline\n",
    "import numpy as np\n",
    "import itertools\n",
    "import pandas as pd\n",
    "import matplotlib.pyplot as plt\n",
    "from pandas import HDFStore,DataFrame\n",
    "\n"
   ]
  },
  {
   "cell_type": "markdown",
   "metadata": {},
   "source": [
    "The data set comes from synchronized and labelled data obtained from Axivity sensors. "
   ]
  },
  {
   "cell_type": "code",
   "execution_count": 70,
   "metadata": {
    "collapsed": false
   },
   "outputs": [
    {
     "name": "stdout",
     "output_type": "stream",
     "text": [
      "<class 'pandas.io.pytables.HDFStore'>\n",
      "File path: /Users/kerstin/Documents/research/HUNT/hunt4training.h5\n",
      "/originial_data                       frame_table  (typ->appendable,nrows->10901356,ncols->8,indexers->[index],dc->[x_back,y_back,z_back,x_thigh,y_thigh,z_thigh,label,subject])\n",
      "/originial_data_textlabels            frame_table  (typ->appendable,nrows->10901356,ncols->8,indexers->[index],dc->[x_back,y_back,z_back,x_thigh,y_thigh,z_thigh,label,subject])\n"
     ]
    },
    {
     "data": {
      "text/html": [
       "<div>\n",
       "<table border=\"1\" class=\"dataframe\">\n",
       "  <thead>\n",
       "    <tr style=\"text-align: right;\">\n",
       "      <th></th>\n",
       "      <th>x_back</th>\n",
       "      <th>y_back</th>\n",
       "      <th>z_back</th>\n",
       "      <th>x_thigh</th>\n",
       "      <th>y_thigh</th>\n",
       "      <th>z_thigh</th>\n",
       "      <th>label</th>\n",
       "      <th>subject</th>\n",
       "    </tr>\n",
       "  </thead>\n",
       "  <tbody>\n",
       "    <tr>\n",
       "      <th>0</th>\n",
       "      <td>-1.001465</td>\n",
       "      <td>-0.140625</td>\n",
       "      <td>0.171875</td>\n",
       "      <td>-0.989990</td>\n",
       "      <td>-0.049072</td>\n",
       "      <td>-0.279785</td>\n",
       "      <td>6</td>\n",
       "      <td>009</td>\n",
       "    </tr>\n",
       "    <tr>\n",
       "      <th>1</th>\n",
       "      <td>-1.000000</td>\n",
       "      <td>-0.140625</td>\n",
       "      <td>0.171875</td>\n",
       "      <td>-1.003418</td>\n",
       "      <td>-0.048096</td>\n",
       "      <td>-0.287842</td>\n",
       "      <td>6</td>\n",
       "      <td>009</td>\n",
       "    </tr>\n",
       "    <tr>\n",
       "      <th>2</th>\n",
       "      <td>-1.000000</td>\n",
       "      <td>-0.140625</td>\n",
       "      <td>0.170410</td>\n",
       "      <td>-0.997070</td>\n",
       "      <td>-0.041504</td>\n",
       "      <td>-0.293945</td>\n",
       "      <td>6</td>\n",
       "      <td>009</td>\n",
       "    </tr>\n",
       "    <tr>\n",
       "      <th>3</th>\n",
       "      <td>-1.000000</td>\n",
       "      <td>-0.140625</td>\n",
       "      <td>0.155273</td>\n",
       "      <td>-0.972168</td>\n",
       "      <td>-0.027832</td>\n",
       "      <td>-0.277832</td>\n",
       "      <td>6</td>\n",
       "      <td>009</td>\n",
       "    </tr>\n",
       "    <tr>\n",
       "      <th>4</th>\n",
       "      <td>-1.000000</td>\n",
       "      <td>-0.140625</td>\n",
       "      <td>0.156250</td>\n",
       "      <td>-0.947510</td>\n",
       "      <td>-0.036621</td>\n",
       "      <td>-0.285645</td>\n",
       "      <td>6</td>\n",
       "      <td>009</td>\n",
       "    </tr>\n",
       "  </tbody>\n",
       "</table>\n",
       "</div>"
      ],
      "text/plain": [
       "     x_back    y_back    z_back   x_thigh   y_thigh   z_thigh  label subject\n",
       "0 -1.001465 -0.140625  0.171875 -0.989990 -0.049072 -0.279785      6     009\n",
       "1 -1.000000 -0.140625  0.171875 -1.003418 -0.048096 -0.287842      6     009\n",
       "2 -1.000000 -0.140625  0.170410 -0.997070 -0.041504 -0.293945      6     009\n",
       "3 -1.000000 -0.140625  0.155273 -0.972168 -0.027832 -0.277832      6     009\n",
       "4 -1.000000 -0.140625  0.156250 -0.947510 -0.036621 -0.285645      6     009"
      ]
     },
     "execution_count": 70,
     "metadata": {},
     "output_type": "execute_result"
    }
   ],
   "source": [
    "# import data\n",
    "store = HDFStore('/Users/kerstin/Documents/research/HUNT/hunt4training.h5')\n",
    "print store\n",
    "data = store['originial_data']\n",
    "\n",
    "## use only one subject\n",
    "data = data[data[\"subject\"] == '009']\n",
    "data.head()"
   ]
  },
  {
   "cell_type": "markdown",
   "metadata": {},
   "source": [
    "## Exploratory Analysis"
   ]
  },
  {
   "cell_type": "code",
   "execution_count": 71,
   "metadata": {
    "collapsed": false
   },
   "outputs": [],
   "source": [
    "# filter data; remove subject id for the further processing\n",
    "data = data[['x_back' ,'y_back' ,'z_back', 'x_thigh' ,'y_thigh' ,'z_thigh', 'label']]"
   ]
  },
  {
   "cell_type": "code",
   "execution_count": 72,
   "metadata": {
    "collapsed": false
   },
   "outputs": [
    {
     "data": {
      "text/html": [
       "<div>\n",
       "<table border=\"1\" class=\"dataframe\">\n",
       "  <thead>\n",
       "    <tr style=\"text-align: right;\">\n",
       "      <th></th>\n",
       "      <th>x_back</th>\n",
       "      <th>y_back</th>\n",
       "      <th>z_back</th>\n",
       "      <th>x_thigh</th>\n",
       "      <th>y_thigh</th>\n",
       "      <th>z_thigh</th>\n",
       "      <th>target</th>\n",
       "    </tr>\n",
       "  </thead>\n",
       "  <tbody>\n",
       "    <tr>\n",
       "      <th>count</th>\n",
       "      <td>310185.000000</td>\n",
       "      <td>310185.000000</td>\n",
       "      <td>310185.000000</td>\n",
       "      <td>310185.000000</td>\n",
       "      <td>310185.000000</td>\n",
       "      <td>310185.000000</td>\n",
       "      <td>310185.000000</td>\n",
       "    </tr>\n",
       "    <tr>\n",
       "      <th>mean</th>\n",
       "      <td>-0.944251</td>\n",
       "      <td>-0.055900</td>\n",
       "      <td>0.312873</td>\n",
       "      <td>-0.957228</td>\n",
       "      <td>0.095314</td>\n",
       "      <td>0.310347</td>\n",
       "      <td>12.302793</td>\n",
       "    </tr>\n",
       "    <tr>\n",
       "      <th>std</th>\n",
       "      <td>0.203294</td>\n",
       "      <td>0.172042</td>\n",
       "      <td>0.167103</td>\n",
       "      <td>0.658533</td>\n",
       "      <td>0.327879</td>\n",
       "      <td>0.851809</td>\n",
       "      <td>2.721524</td>\n",
       "    </tr>\n",
       "    <tr>\n",
       "      <th>min</th>\n",
       "      <td>-8.000000</td>\n",
       "      <td>-3.192139</td>\n",
       "      <td>-2.020752</td>\n",
       "      <td>-8.000000</td>\n",
       "      <td>-8.000000</td>\n",
       "      <td>-7.363770</td>\n",
       "      <td>1.000000</td>\n",
       "    </tr>\n",
       "    <tr>\n",
       "      <th>25%</th>\n",
       "      <td>-1.040527</td>\n",
       "      <td>-0.145508</td>\n",
       "      <td>0.221680</td>\n",
       "      <td>-1.407227</td>\n",
       "      <td>-0.093018</td>\n",
       "      <td>-0.273682</td>\n",
       "      <td>13.000000</td>\n",
       "    </tr>\n",
       "    <tr>\n",
       "      <th>50%</th>\n",
       "      <td>-0.953125</td>\n",
       "      <td>-0.052246</td>\n",
       "      <td>0.300049</td>\n",
       "      <td>-1.033203</td>\n",
       "      <td>0.083008</td>\n",
       "      <td>0.197021</td>\n",
       "      <td>13.000000</td>\n",
       "    </tr>\n",
       "    <tr>\n",
       "      <th>75%</th>\n",
       "      <td>-0.844482</td>\n",
       "      <td>0.038086</td>\n",
       "      <td>0.389160</td>\n",
       "      <td>-0.618652</td>\n",
       "      <td>0.291016</td>\n",
       "      <td>0.814209</td>\n",
       "      <td>13.000000</td>\n",
       "    </tr>\n",
       "    <tr>\n",
       "      <th>max</th>\n",
       "      <td>3.203857</td>\n",
       "      <td>3.057129</td>\n",
       "      <td>6.838135</td>\n",
       "      <td>4.279541</td>\n",
       "      <td>6.152832</td>\n",
       "      <td>7.999756</td>\n",
       "      <td>17.000000</td>\n",
       "    </tr>\n",
       "  </tbody>\n",
       "</table>\n",
       "</div>"
      ],
      "text/plain": [
       "              x_back         y_back         z_back        x_thigh  \\\n",
       "count  310185.000000  310185.000000  310185.000000  310185.000000   \n",
       "mean       -0.944251      -0.055900       0.312873      -0.957228   \n",
       "std         0.203294       0.172042       0.167103       0.658533   \n",
       "min        -8.000000      -3.192139      -2.020752      -8.000000   \n",
       "25%        -1.040527      -0.145508       0.221680      -1.407227   \n",
       "50%        -0.953125      -0.052246       0.300049      -1.033203   \n",
       "75%        -0.844482       0.038086       0.389160      -0.618652   \n",
       "max         3.203857       3.057129       6.838135       4.279541   \n",
       "\n",
       "             y_thigh        z_thigh         target  \n",
       "count  310185.000000  310185.000000  310185.000000  \n",
       "mean        0.095314       0.310347      12.302793  \n",
       "std         0.327879       0.851809       2.721524  \n",
       "min        -8.000000      -7.363770       1.000000  \n",
       "25%        -0.093018      -0.273682      13.000000  \n",
       "50%         0.083008       0.197021      13.000000  \n",
       "75%         0.291016       0.814209      13.000000  \n",
       "max         6.152832       7.999756      17.000000  "
      ]
     },
     "execution_count": 72,
     "metadata": {},
     "output_type": "execute_result"
    }
   ],
   "source": [
    "# renaming columns\n",
    "data.columns = ['x_back' ,'y_back' ,'z_back', 'x_thigh' ,'y_thigh' ,'z_thigh', 'target']\n",
    "#data.columns = ['x_back' ,'y_back' ,'z_back', 'target']\n",
    "data.describe()"
   ]
  },
  {
   "cell_type": "code",
   "execution_count": 73,
   "metadata": {
    "collapsed": true
   },
   "outputs": [],
   "source": [
    "# calculate and add norms for each data point\n",
    "data['m'] = np.sqrt(data['x_back']**2 + data['y_back']**2 + data['z_back']**2 + data['x_thigh']**2 + data['y_thigh']**2 + data['z_thigh']**2)\n",
    "#data['m'] = np.sqrt(data['x_back']**2 + data['y_back']**2 + data['z_back']**2)"
   ]
  },
  {
   "cell_type": "markdown",
   "metadata": {},
   "source": [
    "### Descriptive statistics"
   ]
  },
  {
   "cell_type": "code",
   "execution_count": 74,
   "metadata": {
    "collapsed": false
   },
   "outputs": [
    {
     "name": "stdout",
     "output_type": "stream",
     "text": [
      "No missing values.\n"
     ]
    }
   ],
   "source": [
    "# check for missing data\n",
    "nan_flag = False\n",
    "for c in data.columns:\n",
    "    if any(data[c] == np.nan):\n",
    "        print c, 'contains NaNs'\n",
    "        nan_flag = True\n",
    "if not nan_flag:\n",
    "    print 'No missing values.'"
   ]
  },
  {
   "cell_type": "code",
   "execution_count": 75,
   "metadata": {
    "collapsed": false
   },
   "outputs": [
    {
     "data": {
      "text/plain": [
       "13    0.841279\n",
       "14    0.071222\n",
       "6     0.039206\n",
       "1     0.036598\n",
       "5     0.003611\n",
       "17    0.003095\n",
       "4     0.002889\n",
       "3     0.001148\n",
       "12    0.000916\n",
       "15    0.000039\n",
       "Name: target, dtype: float64"
      ]
     },
     "execution_count": 75,
     "metadata": {},
     "output_type": "execute_result"
    }
   ],
   "source": [
    "# examine class distribution\n",
    "data['target'].value_counts()/float(len(data))"
   ]
  },
  {
   "cell_type": "code",
   "execution_count": null,
   "metadata": {
    "collapsed": false
   },
   "outputs": [],
   "source": []
  },
  {
   "cell_type": "markdown",
   "metadata": {},
   "source": [
    "### Visualizing the series"
   ]
  },
  {
   "cell_type": "code",
   "execution_count": 76,
   "metadata": {
    "collapsed": false
   },
   "outputs": [
    {
     "data": {
      "image/png": "[encoded data removed]",
      "text/plain": [
       "<matplotlib.figure.Figure at 0x160722a50>"
      ]
     },
     "metadata": {},
     "output_type": "display_data"
    }
   ],
   "source": [
    "plt.style.use('fivethirtyeight')\n",
    "\n",
    "for c in range(1, 8):\n",
    "    plt.plot(data[data['target'] == c]['m'], linewidth=.5)\n",
    "plt.xlim(0, len(data))\n",
    "plt.ylim(-1, 10)\n",
    "plt.ticklabel_format(style='sci', axis='y_thigh', scilimits=(0,0))"
   ]
  },
  {
   "cell_type": "markdown",
   "metadata": {},
   "source": [
    "This gives an idea of the shape of the signal. It's clear that there are large differences between the different activities."
   ]
  },
  {
   "cell_type": "markdown",
   "metadata": {},
   "source": [
    "## Preprocessing\n",
    "\n",
    "As recommended in the paper cited above, I generated two new time series from each of the original series plus the norms by applying digital filters. For each series I applied a high and low pass filter, with the cutoff set to 2hz, resulting in 12 total series."
   ]
  },
  {
   "cell_type": "code",
   "execution_count": 77,
   "metadata": {
    "collapsed": false
   },
   "outputs": [
    {
     "data": {
      "text/plain": [
       "<matplotlib.text.Text at 0x125ac3f90>"
      ]
     },
     "execution_count": 77,
     "metadata": {},
     "output_type": "execute_result"
    },
    {
     "data": {
      "image/png": "[encoded data removed]",
      "text/plain": [
       "<matplotlib.figure.Figure at 0x14c4fe7d0>"
      ]
     },
     "metadata": {},
     "output_type": "display_data"
    }
   ],
   "source": [
    "from scipy.signal import butter, lfilter, freqz\n",
    "\n",
    "def butter_lowpass(cutoff, fs, order=5):\n",
    "    # helper function to return coefficients for scipy.lfilter\n",
    "    nyq = 0.5 * fs\n",
    "    normal_cutoff = cutoff / nyq\n",
    "    b, a = butter(order, normal_cutoff, btype='low', analog=False)\n",
    "    return b, a\n",
    "\n",
    "def butter_lowpass_filter(data, cutoff, fs, order=5):\n",
    "    # applies a lowpass filter\n",
    "    b, a = butter_lowpass(cutoff, fs, order=order)\n",
    "    y = lfilter(b, a, data)\n",
    "    return y\n",
    "\n",
    "def butter_highpass(cutoff, fs, order=5):\n",
    "    # helper function to return coefficients for scipy.lfilter\n",
    "    nyq = 0.5 * fs\n",
    "    normal_cutoff = cutoff / nyq\n",
    "    b, a = butter(order, normal_cutoff, btype='high', analog=False)\n",
    "    return b, a\n",
    "\n",
    "def butter_highpass_filter(data, cutoff, fs, order=5):\n",
    "    # applies a highpass filter\n",
    "    b, a = butter_highpass(cutoff, fs, order=order)\n",
    "    y = lfilter(b, a, data)\n",
    "    return y\n",
    "\n",
    "\n",
    "# Filter requirements.\n",
    "order = 6\n",
    "fs = 10.       # sample rate, Hz\n",
    "cutoff = 2.     # desired cutoff frequency of the filter, Hz\n",
    "\n",
    "# Get the filter coefficients so we can check its frequency response.\n",
    "b, a = butter_lowpass(cutoff, fs, order)\n",
    "\n",
    "# Plot the frequency response.\n",
    "w, h = freqz(b, a, worN=8000)\n",
    "plt.plot(0.5*fs*w/np.pi, np.abs(h))\n",
    "plt.plot(cutoff, 0.5*np.sqrt(2), 'ko')\n",
    "plt.axvline(cutoff, color='k')\n",
    "plt.xlim(0, 5)\n",
    "plt.title(\"Lowpass Filter Frequency Response\")\n",
    "plt.xlabel('Frequency [Hz]')"
   ]
  },
  {
   "cell_type": "code",
   "execution_count": 78,
   "metadata": {
    "collapsed": false
   },
   "outputs": [
    {
     "data": {
      "text/plain": [
       "(2500, 2650)"
      ]
     },
     "execution_count": 78,
     "metadata": {},
     "output_type": "execute_result"
    },
    {
     "data": {
      "image/png": "[encoded data removed]",
      "text/plain": [
       "<matplotlib.figure.Figure at 0x11b51ca50>"
      ]
     },
     "metadata": {},
     "output_type": "display_data"
    }
   ],
   "source": [
    "# test the filter on a sample of the dataset\n",
    "filter_test_data = data[data['target'] == 13]['y_back']\n",
    "filter_test_x = xrange(len(filter_test_data))\n",
    "filter_test_y = butter_lowpass_filter(filter_test_data, cutoff, fs, order)\n",
    "plt.plot(filter_test_x, filter_test_data, linewidth=1, label='data')\n",
    "plt.plot(filter_test_x, filter_test_y, linewidth=2, label='filtered data')\n",
    "plt.xlabel('t')\n",
    "plt.legend(loc='upper left')\n",
    "plt.xlim(0, len(filter_test_data))\n",
    "#plt.ylim(1900, 2300)\n",
    "plt.xlim(2500, 2650)"
   ]
  },
  {
   "cell_type": "markdown",
   "metadata": {},
   "source": [
    "The filter should describe the signal of the raw data well."
   ]
  },
  {
   "cell_type": "code",
   "execution_count": 79,
   "metadata": {
    "collapsed": true
   },
   "outputs": [],
   "source": [
    "# apply the filters\n",
    "for c in ['x_back' ,'y_back' ,'z_back', 'x_thigh' ,'y_thigh' ,'z_thigh', 'm']:\n",
    "#for c in ['x_back' ,'y_back' ,'z_back', 'm']:\n",
    "    data[c+'l'] = butter_lowpass_filter(data[c], cutoff, fs, order)\n",
    "    data[c+'h'] = butter_highpass_filter(data[c], cutoff, fs, order)"
   ]
  },
  {
   "cell_type": "markdown",
   "metadata": {},
   "source": [
    "## Feature Extraction\n",
    "\n",
    "I extracted features by windowing the series, creating 250 windows, each of a quarter second of data. Windows overlap adjacent windows, sharing 50% of its data with each. \n",
    "The following features are extracted from each window, for each time-series: \n",
    " - root mean square value (RMS)\n",
    " - mean of the minmax sums\n",
    " - mean,  \n",
    " - standard deviation. \n",
    "This results in a dataset with 84 features for 6 incoming raw signals.\n",
    "\n",
    "### RMS\n",
    "\n",
    "This is calculated by taking the square root of the average of the squares of the series.\n",
    "\n",
    "### Minmax sums\n",
    "\n",
    "This is calculated by finding the differences between each min and max in the series, then averaging these values."
   ]
  },
  {
   "cell_type": "code",
   "execution_count": 80,
   "metadata": {
    "collapsed": false
   },
   "outputs": [],
   "source": [
    "from scipy.signal import argrelmin, argrelmax\n",
    "\n",
    "def rms(series):\n",
    "    # returns root mean square value of a series\n",
    "    return np.sqrt((series**2).mean())\n",
    "\n",
    "\n",
    "def min_max_mean(series):\n",
    "    # returns the average of the differences between local mins/maxs\n",
    "    mins = argrelmin(series)[0]    # indices of the local minima\n",
    "    maxs = argrelmax(series)[0]    # local maxima\n",
    "    min_max_sum = 0\n",
    "    # build the sums, then take the average\n",
    "    if len(mins) <= len(maxs):\n",
    "        for j, arg in enumerate(mins):\n",
    "            min_max_sum += series[maxs[j]] - series[arg]\n",
    "    else:\n",
    "        for j, arg in enumerate(maxs):\n",
    "            min_max_sum += series[arg] - series[mins[j]]\n",
    "    return min_max_sum/float(min(len(mins), len(maxs)))\n",
    "\n",
    "\n",
    "def extract_features(data, y, num_windows):\n",
    "    window_len = len(data)/(num_windows/2)\n",
    "    print 'window_len: ', window_len\n",
    "    num_windows = len(data)/window_len\n",
    "    print 'num_windows: ', num_windows\n",
    "    i = 0    # initialize index\n",
    "\n",
    "    print 'before: ', len(data)\n",
    "    data = data[:window_len*num_windows-1]\n",
    "    y = y[:window_len*num_windows]\n",
    "    print 'after: ', len(data)\n",
    "    \n",
    "    features = []\n",
    "    targets = []\n",
    "    \n",
    "    for n in range(num_windows):\n",
    "        # isolate window\n",
    "        win = data[i:i+window_len]\n",
    "        \n",
    "        # extract target\n",
    "        target = int(y[i:i+window_len].mode())\n",
    "        targets.append(target)\n",
    "        \n",
    "        for c in data.columns:\n",
    "            # extract features for each series\n",
    "            s = np.array(win[c])\n",
    "            rms_val = rms(s)\n",
    "            min_max = min_max_mean(s)\n",
    "            mean = s.mean()\n",
    "            std = s.std()\n",
    "            new_features = [rms_val, min_max, mean, std]\n",
    "            features.append(new_features)\n",
    "        # update index\n",
    "        i += window_len/2\n",
    "    features = np.array(features)\n",
    "    features.shape = num_windows, 84 #xyz --> 48; b+t xyz --> 84\n",
    "    targets = np.array(targets)\n",
    "    return features, targets"
   ]
  },
  {
   "cell_type": "code",
   "execution_count": 97,
   "metadata": {
    "collapsed": false
   },
   "outputs": [
    {
     "name": "stdout",
     "output_type": "stream",
     "text": [
      "window_len:  295\n",
      "num_windows:  1051\n",
      "before:  310185\n",
      "after:  310044\n",
      "features: 88284\n",
      "targets 1051\n"
     ]
    }
   ],
   "source": [
    "#features = data.drop(['sample', 'target'], axis=1)\n",
    "features = data.drop(['target'], axis=1)\n",
    "targets = data['target']\n",
    "\n",
    "num_windows = 2100\n",
    "X, y = extract_features(features, targets, num_windows)\n",
    "\n",
    "print 'features:', X.size #features 702 * 48\n",
    "print 'targets', y.size"
   ]
  },
  {
   "cell_type": "code",
   "execution_count": 98,
   "metadata": {
    "collapsed": false
   },
   "outputs": [],
   "source": [
    "#create target label lists\n",
    "\n",
    "\n",
    "#column_names_num = sorted(data['target'].unique())\n",
    "#column_names_text = column_names_num.replace({'target': no_to_label_dict})\n",
    "#print column_names_num\n",
    "\n",
    "#print features.info()\n",
    "#print targets.size\n",
    "#print features.size / targets.size"
   ]
  },
  {
   "cell_type": "markdown",
   "metadata": {},
   "source": [
    "## Model building and evaluation\n",
    "\n",
    "The null classifier predicts the majority class for every data point. I used this as a starting point."
   ]
  },
  {
   "cell_type": "code",
   "execution_count": 99,
   "metadata": {
    "collapsed": false
   },
   "outputs": [],
   "source": [
    "from sklearn.cross_validation import train_test_split, cross_val_score\n",
    "\n",
    "# train-test split\n",
    "X_train, X_test, y_train, y_test = train_test_split(X, y, test_size = .2, random_state=1)"
   ]
  },
  {
   "cell_type": "code",
   "execution_count": 100,
   "metadata": {
    "collapsed": false
   },
   "outputs": [
    {
     "name": "stdout",
     "output_type": "stream",
     "text": [
      "0.848341232227\n"
     ]
    }
   ],
   "source": [
    "# majority class prediction\n",
    "from collections import Counter\n",
    "\n",
    "label_counts = Counter(y_test)\n",
    "null = label_counts.most_common()[0][1]/float(len(y_test))\n",
    "print null"
   ]
  },
  {
   "cell_type": "code",
   "execution_count": 101,
   "metadata": {
    "collapsed": false
   },
   "outputs": [],
   "source": [
    "import sklearn.metrics as met\n",
    "    \n",
    "# helper function to quickly build different models\n",
    "def model_build(model):\n",
    "    model.fit(X_train, y_train)\n",
    "    return model\n",
    "\n",
    "# helper function to handle evaluation\n",
    "def model_eval(model):\n",
    "    pred = model.predict(X_test)\n",
    "    print 'Accuracy:\\n-----------------------------'\n",
    "    print met.accuracy_score(y_test, pred)\n",
    "    print '\\nConfusion Matrix:\\n-----------------------------'\n",
    "    print met.confusion_matrix(y_test, pred)\n",
    "    print '\\nClassification Report:\\n-----------------------------'\n",
    "    print met.classification_report(y_test, pred)\n",
    "   "
   ]
  },
  {
   "cell_type": "code",
   "execution_count": null,
   "metadata": {
    "collapsed": false
   },
   "outputs": [],
   "source": [
    "\n"
   ]
  },
  {
   "cell_type": "markdown",
   "metadata": {},
   "source": [
    "## Evaluation Results"
   ]
  },
  {
   "cell_type": "code",
   "execution_count": 102,
   "metadata": {
    "collapsed": false
   },
   "outputs": [
    {
     "name": "stdout",
     "output_type": "stream",
     "text": [
      "Accuracy:\n",
      "-----------------------------\n",
      "0.9336492891\n",
      "\n",
      "Confusion Matrix:\n",
      "-----------------------------\n",
      "[[  7   0   0   0   0]\n",
      " [  4   0   0   0   0]\n",
      " [  0   0   5   0   0]\n",
      " [  0   0   0 178   1]\n",
      " [  1   0   0   8   7]]\n",
      "\n",
      "Classification Report:\n",
      "-----------------------------\n",
      "             precision    recall  f1-score   support\n",
      "\n",
      "          1       0.58      1.00      0.74         7\n",
      "          4       0.00      0.00      0.00         4\n",
      "          6       1.00      1.00      1.00         5\n",
      "         13       0.96      0.99      0.98       179\n",
      "         14       0.88      0.44      0.58        16\n",
      "\n",
      "avg / total       0.92      0.93      0.92       211\n",
      "\n"
     ]
    }
   ],
   "source": [
    "# K-Nearest Neighbors\n",
    "from sklearn.neighbors import KNeighborsClassifier\n",
    "\n",
    "knn = model_build(KNeighborsClassifier())\n",
    "model_eval(knn)"
   ]
  },
  {
   "cell_type": "code",
   "execution_count": 103,
   "metadata": {
    "collapsed": false
   },
   "outputs": [
    {
     "name": "stdout",
     "output_type": "stream",
     "text": [
      "Accuracy:\n",
      "-----------------------------\n",
      "0.952606635071\n",
      "\n",
      "Confusion Matrix:\n",
      "-----------------------------\n",
      "[[  6   0   0   0   1]\n",
      " [  3   1   0   0   0]\n",
      " [  0   0   5   0   0]\n",
      " [  0   0   0 176   3]\n",
      " [  1   0   0   2  13]]\n",
      "\n",
      "Classification Report:\n",
      "-----------------------------\n",
      "             precision    recall  f1-score   support\n",
      "\n",
      "          1       0.60      0.86      0.71         7\n",
      "          4       1.00      0.25      0.40         4\n",
      "          6       1.00      1.00      1.00         5\n",
      "         13       0.99      0.98      0.99       179\n",
      "         14       0.76      0.81      0.79        16\n",
      "\n",
      "avg / total       0.96      0.95      0.95       211\n",
      "\n"
     ]
    }
   ],
   "source": [
    "# Random Forest\n",
    "from sklearn.ensemble import RandomForestClassifier\n",
    "\n",
    "rfc = model_build(RandomForestClassifier(n_estimators=20))\n",
    "model_eval(rfc)"
   ]
  },
  {
   "cell_type": "code",
   "execution_count": 104,
   "metadata": {
    "collapsed": false
   },
   "outputs": [
    {
     "name": "stdout",
     "output_type": "stream",
     "text": [
      "Accuracy:\n",
      "-----------------------------\n",
      "0.9336492891\n",
      "\n",
      "Confusion Matrix:\n",
      "-----------------------------\n",
      "[[  7   0   0   0   0]\n",
      " [  4   0   0   0   0]\n",
      " [  0   0   5   0   0]\n",
      " [  0   0   0 178   1]\n",
      " [  1   0   0   8   7]]\n",
      "\n",
      "Classification Report:\n",
      "-----------------------------\n",
      "             precision    recall  f1-score   support\n",
      "\n",
      "          1       0.58      1.00      0.74         7\n",
      "          4       0.00      0.00      0.00         4\n",
      "          6       1.00      1.00      1.00         5\n",
      "         13       0.96      0.99      0.98       179\n",
      "         14       0.88      0.44      0.58        16\n",
      "\n",
      "avg / total       0.92      0.93      0.92       211\n",
      "\n"
     ]
    }
   ],
   "source": [
    "# Blending the models by voting\n",
    "from sklearn.ensemble import VotingClassifier\n",
    "\n",
    "vote = model_build(VotingClassifier(estimators=[('rf', rfc), ('knn', knn)]))\n",
    "model_eval(vote)"
   ]
  },
  {
   "cell_type": "code",
   "execution_count": 105,
   "metadata": {
    "collapsed": false,
    "scrolled": true
   },
   "outputs": [
    {
     "name": "stdout",
     "output_type": "stream",
     "text": [
      "Accuracy:\n",
      "-----------------------------\n",
      "0.947867298578\n",
      "\n",
      "Confusion Matrix:\n",
      "-----------------------------\n",
      "[[  6   0   0   1   0]\n",
      " [  4   0   0   0   0]\n",
      " [  0   0   5   0   0]\n",
      " [  0   0   0 178   1]\n",
      " [  0   0   0   5  11]]\n",
      "\n",
      "Classification Report:\n",
      "-----------------------------\n",
      "             precision    recall  f1-score   support\n",
      "\n",
      "          1       0.60      0.86      0.71         7\n",
      "          4       0.00      0.00      0.00         4\n",
      "          6       1.00      1.00      1.00         5\n",
      "         13       0.97      0.99      0.98       179\n",
      "         14       0.92      0.69      0.79        16\n",
      "\n",
      "avg / total       0.93      0.95      0.94       211\n",
      "\n"
     ]
    }
   ],
   "source": [
    "# Random Forest with weighted classes\n",
    "\n",
    "rfc_bal = model_build(RandomForestClassifier(n_estimators=50, class_weight='balanced'))\n",
    "model_eval(rfc_bal)"
   ]
  }
 ],
 "metadata": {
  "anaconda-cloud": {},
  "kernelspec": {
   "display_name": "Python [Root]",
   "language": "python",
   "name": "Python [Root]"
  },
  "language_info": {
   "codemirror_mode": {
    "name": "ipython",
    "version": 2
   },
   "file_extension": ".py",
   "mimetype": "text/x-python",
   "name": "python",
   "nbconvert_exporter": "python",
   "pygments_lexer": "ipython2",
   "version": "2.7.11"
  },
  "nikola": {
   "category": "",
   "date": "2016-04-26 21:05:30 UTC+08:00",
   "description": "",
   "link": "",
   "slug": "predicting-activities-from-accelerometer-data",
   "tags": "",
   "title": "Predicting Activities from Accelerometer Data",
   "type": "text"
  }
 },
 "nbformat": 4,
 "nbformat_minor": 0
}
